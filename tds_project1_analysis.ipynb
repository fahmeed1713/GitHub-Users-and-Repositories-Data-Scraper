{
  "nbformat": 4,
  "nbformat_minor": 0,
  "metadata": {
    "colab": {
      "provenance": []
    },
    "kernelspec": {
      "name": "python3",
      "display_name": "Python 3"
    },
    "language_info": {
      "name": "python"
    }
  },
  "cells": [
    {
      "cell_type": "code",
      "execution_count": null,
      "metadata": {
        "colab": {
          "base_uri": "https://localhost:8080/"
        },
        "id": "TL_M6lOgrrRs",
        "outputId": "c914e550-693f-4ec6-fdf1-87bf073f9108"
      },
      "outputs": [
        {
          "output_type": "stream",
          "name": "stdout",
          "text": [
            "Requirement already satisfied: requests in /usr/local/lib/python3.10/dist-packages (2.32.3)\n",
            "Requirement already satisfied: pandas in /usr/local/lib/python3.10/dist-packages (2.2.2)\n",
            "Collecting python-dotenv\n",
            "  Downloading python_dotenv-1.0.1-py3-none-any.whl.metadata (23 kB)\n",
            "Requirement already satisfied: charset-normalizer<4,>=2 in /usr/local/lib/python3.10/dist-packages (from requests) (3.4.0)\n",
            "Requirement already satisfied: idna<4,>=2.5 in /usr/local/lib/python3.10/dist-packages (from requests) (3.10)\n",
            "Requirement already satisfied: urllib3<3,>=1.21.1 in /usr/local/lib/python3.10/dist-packages (from requests) (2.2.3)\n",
            "Requirement already satisfied: certifi>=2017.4.17 in /usr/local/lib/python3.10/dist-packages (from requests) (2024.8.30)\n",
            "Requirement already satisfied: numpy>=1.22.4 in /usr/local/lib/python3.10/dist-packages (from pandas) (1.26.4)\n",
            "Requirement already satisfied: python-dateutil>=2.8.2 in /usr/local/lib/python3.10/dist-packages (from pandas) (2.8.2)\n",
            "Requirement already satisfied: pytz>=2020.1 in /usr/local/lib/python3.10/dist-packages (from pandas) (2024.2)\n",
            "Requirement already satisfied: tzdata>=2022.7 in /usr/local/lib/python3.10/dist-packages (from pandas) (2024.2)\n",
            "Requirement already satisfied: six>=1.5 in /usr/local/lib/python3.10/dist-packages (from python-dateutil>=2.8.2->pandas) (1.16.0)\n",
            "Downloading python_dotenv-1.0.1-py3-none-any.whl (19 kB)\n",
            "Installing collected packages: python-dotenv\n",
            "Successfully installed python-dotenv-1.0.1\n"
          ]
        }
      ],
      "source": [
        "pip install requests pandas python-dotenv\n"
      ]
    },
    {
      "cell_type": "code",
      "source": [
        "import requests\n",
        "import pandas as pd\n",
        "\n",
        "# Replace with your GitHub token\n",
        "TOKEN = 'token'\n",
        "headers = {'Authorization': f'token {TOKEN}'}\n",
        "\n",
        "# Function to fetch users from London with more than 500 followers\n",
        "def fetch_users(location='Barcelona', followers=100, per_page=100, page=1):\n",
        "    url = f\"https://api.github.com/search/users?q=location:{location}+followers:>{followers}&per_page={per_page}&page={page}\"\n",
        "    response = requests.get(url, headers=headers)\n",
        "    if response.status_code == 200:\n",
        "        return response.json()\n",
        "    else:\n",
        "        print(f\"Failed to fetch users: {response.status_code}\")\n",
        "        return {}\n",
        "\n",
        "# Function to fetch repositories for a given user\n",
        "def fetch_repositories(user_login, per_page=100, page=1):\n",
        "    url = f\"https://api.github.com/users/{user_login}/repos?per_page={per_page}&page={page}\"\n",
        "    response = requests.get(url, headers=headers)\n",
        "    if response.status_code == 200:\n",
        "        return response.json()\n",
        "    else:\n",
        "        print(f\"Failed to fetch repos for {user_login}: {response.status_code}\")\n",
        "        return []\n",
        "\n",
        "# Clean company name by removing leading '@' and converting to uppercase\n",
        "def clean_company_name(company):\n",
        "    if company:\n",
        "        company = company.strip()\n",
        "        if company.startswith('@'):\n",
        "            company = company[1:]\n",
        "        return company.upper()\n",
        "    return ''\n",
        "\n",
        "# Fetch and save users to CSV\n",
        "def get_users_data():\n",
        "    all_users = []\n",
        "    page = 1\n",
        "\n",
        "    while True:\n",
        "        users_data = fetch_users(page=page)\n",
        "        if not users_data.get('items'):\n",
        "            break\n",
        "        for user in users_data['items']:\n",
        "            # Fetch detailed user data (optional, if needed)\n",
        "            user_detail = requests.get(user['url'], headers=headers).json()\n",
        "\n",
        "            all_users.append({\n",
        "                'login': user['login'],\n",
        "                'name': user_detail.get('name', ''),\n",
        "                'company': clean_company_name(user_detail.get('company', '')),\n",
        "                'location': user_detail.get('location', ''),\n",
        "                'email': user_detail.get('email', ''),\n",
        "                'hireable': user_detail.get('hireable', ''),\n",
        "                'bio': user_detail.get('bio', ''),\n",
        "                'public_repos': user_detail.get('public_repos', 0),\n",
        "                'followers': user_detail.get('followers', 0),\n",
        "                'following': user_detail.get('following', 0),\n",
        "                'created_at': user_detail.get('created_at', '')\n",
        "            })\n",
        "\n",
        "        page += 1\n",
        "\n",
        "    # Save users data to CSV\n",
        "    users_df = pd.DataFrame(all_users)\n",
        "    users_df.to_csv('users.csv', index=False)\n",
        "    print(\"Users data saved to users.csv\")\n",
        "\n",
        "\n",
        "# Fetch and save repositories to CSV\n",
        "def get_repositories_data():\n",
        "    users_df = pd.read_csv('users.csv')\n",
        "    all_repos = []\n",
        "\n",
        "    for login in users_df['login']:\n",
        "        page = 1\n",
        "        while True:\n",
        "            repos_data = fetch_repositories(login, page=page)\n",
        "            if not repos_data:\n",
        "                break\n",
        "            for repo in repos_data:\n",
        "                all_repos.append({\n",
        "                    'login': login,\n",
        "                    'full_name': repo['full_name'],\n",
        "                    'created_at': repo['created_at'],\n",
        "                    'stargazers_count': repo['stargazers_count'],\n",
        "                    'watchers_count': repo['watchers_count'],\n",
        "                    'language': repo.get('language', ''),\n",
        "                    'has_projects': repo.get('has_projects', False),\n",
        "                    'has_wiki': repo.get('has_wiki', False),\n",
        "                    'license_name': repo['license']['name'] if repo['license'] else ''\n",
        "                })\n",
        "            page += 1\n",
        "\n",
        "    # Save repositories data to CSV\n",
        "    repos_df = pd.DataFrame(all_repos)\n",
        "    repos_df.to_csv('repositories.csv', index=False)\n",
        "    print(\"Repositories data saved to repositories.csv\")\n",
        "\n",
        "\n",
        "# Run the data collection process\n",
        "get_users_data()\n",
        "get_repositories_data()"
      ],
      "metadata": {
        "colab": {
          "base_uri": "https://localhost:8080/"
        },
        "id": "pMCI_Zu_r1Kn",
        "outputId": "4b1bc2d7-84df-4429-90f3-28631a4100b4"
      },
      "execution_count": null,
      "outputs": [
        {
          "output_type": "stream",
          "name": "stdout",
          "text": [
            "Users data saved to users.csv\n",
            "Repositories data saved to repositories.csv\n"
          ]
        }
      ]
    },
    {
      "cell_type": "code",
      "source": [
        "import pandas as pd\n",
        "import statsmodels.api as sm\n",
        "\n",
        "# Load the users data from the CSV file\n",
        "users_df = pd.read_csv('users.csv')\n",
        "\n",
        "# Filter out users without bios\n",
        "users_with_bios = users_df[users_df['bio'].notna()]\n",
        "\n",
        "# Calculate the length of the bio in words\n",
        "#users_with_bios['bio_word_count'] = users_with_bios['bio'].str.split(\" \").str.len()\n",
        "\n",
        "# The error was here: users_with_bio was used instead of users_with_bios\n",
        "users_with_bios['bio_word_count'] = users_with_bios['bio'].apply(lambda x: len(x.split()))\n",
        "\n",
        "\n",
        "# Prepare the data for regression\n",
        "X = users_with_bios['bio_word_count']  # Independent variable\n",
        "y = users_with_bios['followers']        # Dependent variable\n",
        "\n",
        "# Add a constant to the independent variable for the regression\n",
        "X = sm.add_constant(X)\n",
        "\n",
        "# Fit the regression model\n",
        "model = sm.OLS(y, X).fit()\n",
        "\n",
        "# Get the regression slope (coefficient for bio_word_count)\n",
        "slope = model.params['bio_word_count']\n",
        "\n",
        "# Print the slope rounded to three decimal places\n",
        "print(f'Regression slope of followers on bio word count: {slope:.3f}')"
      ],
      "metadata": {
        "colab": {
          "base_uri": "https://localhost:8080/"
        },
        "id": "zRMxIvugXZPo",
        "outputId": "13a6a52b-d3d1-4517-8847-7720e3f6be71"
      },
      "execution_count": null,
      "outputs": [
        {
          "output_type": "stream",
          "name": "stdout",
          "text": [
            "Regression slope of followers on bio word count: 13.733\n"
          ]
        },
        {
          "output_type": "stream",
          "name": "stderr",
          "text": [
            "<ipython-input-3-85495eff9be2>:14: SettingWithCopyWarning: \n",
            "A value is trying to be set on a copy of a slice from a DataFrame.\n",
            "Try using .loc[row_indexer,col_indexer] = value instead\n",
            "\n",
            "See the caveats in the documentation: https://pandas.pydata.org/pandas-docs/stable/user_guide/indexing.html#returning-a-view-versus-a-copy\n",
            "  users_with_bios['bio_word_count'] = users_with_bios['bio'].apply(lambda x: len(x.split()))\n"
          ]
        }
      ]
    },
    {
      "cell_type": "code",
      "source": [
        "# After collecting user data, add this function to get top 5 users\n",
        "def get_top_5_users():\n",
        "    # Load the users dataset\n",
        "    users_df = pd.read_csv('users.csv')\n",
        "\n",
        "    # Filter users in Barcelona and sort by followers\n",
        "    top_users = users_df[users_df['location'].str.contains('Barcelona', na=False)] \\\n",
        "        .sort_values(by='followers', ascending=False) \\\n",
        "        .head(5)\n",
        "\n",
        "    # Get the logins of the top 5 users\n",
        "    top_5_logins = top_users['login'].tolist()\n",
        "\n",
        "    # Print the top 5 logins in a comma-separated format\n",
        "    print(\"Top 5 users in Barcelona with the highest number of followers:\")\n",
        "    print(\", \".join(top_5_logins))\n",
        "\n",
        "\n",
        "# Run the data collection process\n",
        "get_users_data()\n",
        "get_repositories_data()\n",
        "\n",
        "# Call the function to get top 5 users\n",
        "get_top_5_users()\n"
      ],
      "metadata": {
        "colab": {
          "base_uri": "https://localhost:8080/"
        },
        "id": "boo6M9mfwXE-",
        "outputId": "c649b9cb-e5b6-42d8-93fe-38bc6f8b4a48"
      },
      "execution_count": null,
      "outputs": [
        {
          "output_type": "stream",
          "name": "stdout",
          "text": [
            "Users data saved to users.csv\n",
            "Repositories data saved to repositories.csv\n",
            "Top 5 users in Barcelona with the highest number of followers:\n",
            "midudev, ai, raysan5, vfarcic, spite\n"
          ]
        }
      ]
    },
    {
      "cell_type": "code",
      "source": [
        "import pandas as pd\n",
        "import statsmodels.api as sm\n",
        "\n",
        "# Load the cleaned datasets\n",
        "users_df = pd.read_csv('users.csv')\n",
        "repos_df = pd.read_csv('repositories.csv')\n",
        "\n",
        "# 1. Earliest Registered Users in Barcelona\n",
        "earliest_users = users_df[users_df['location'].str.contains('Barcelona', na=False)] \\\n",
        "    .sort_values(by='created_at') \\\n",
        "    .head(5)\n",
        "earliest_logins = earliest_users['login'].tolist()\n",
        "print(\"Earliest registered users in Barcelona:\")\n",
        "print(\", \".join(earliest_logins))\n",
        "\n",
        "# 2. Most Popular Licenses Among These Users\n",
        "popular_licenses = repos_df[repos_df['login'].isin(earliest_users['login'])]['license_name'].dropna().value_counts().head(3)\n",
        "popular_license_names = popular_licenses.index.tolist()\n",
        "print(\"Most popular licenses:\")\n",
        "print(\", \".join(popular_license_names))\n",
        "\n",
        "# 3. Majority Company Among These Developers\n",
        "majority_company = earliest_users['company'].mode().iloc[0]\n",
        "print(\"Majority company:\")\n",
        "print(majority_company)\n",
        "\n",
        "# 4. Most Popular Programming Language\n",
        "most_popular_language = repos_df[repos_df['login'].isin(earliest_users['login'])]['language'].mode().iloc[0]\n",
        "print(\"Most popular programming language:\")\n",
        "print(most_popular_language)\n",
        "\n",
        "# 5. Second Most Popular Language for Users Who Joined After 2020\n",
        "users_df['created_at'] = pd.to_datetime(users_df['created_at'])\n",
        "after_2020_users = users_df[users_df['created_at'].dt.year > 2020]\n",
        "second_most_popular_language = after_2020_users['language'].mode().iloc[1]\n",
        "print(\"Second most popular language for users who joined after 2020:\")\n",
        "print(second_most_popular_language)\n",
        "\n",
        "# 6. Language with Highest Average Stars per Repository\n",
        "avg_stars = repos_df.groupby('language')['stargazers_count'].mean().idxmax()\n",
        "print(\"Language with highest average number of stars per repository:\")\n",
        "print(avg_stars)\n",
        "\n",
        "# 7. Top 5 Users by Leader Strength\n",
        "users_df['leader_strength'] = users_df['followers'] / (1 + users_df['following'])\n",
        "top_leaders = users_df.nlargest(5, 'leader_strength')['login'].tolist()\n",
        "print(\"Top 5 users in terms of leader strength:\")\n",
        "print(\", \".join(top_leaders))\n",
        "\n",
        "# 8. Correlation Between Followers and Public Repositories\n",
        "correlation_followers_repos = users_df['followers'].corr(users_df['public_repos'])\n",
        "print(\"Correlation between followers and public repositories:\")\n",
        "print(f\"{correlation_followers_repos:.3f}\")\n",
        "\n",
        "# 9. Regression Analysis of Followers on Repos\n",
        "X = users_df['public_repos']\n",
        "y = users_df['followers']\n",
        "X = sm.add_constant(X)\n",
        "model = sm.OLS(y, X, missing='drop').fit()\n",
        "regression_slope = model.params['public_repos']\n",
        "print(\"Regression slope of followers on repositories:\")\n",
        "print(f\"{regression_slope:.3f}\")\n",
        "\n",
        "# 10. Correlation Between Projects and Wiki Enabled\n",
        "correlation_projects_wiki = repos_df['has_projects'].corr(repos_df['has_wiki'])\n",
        "print(\"Correlation between projects and wiki enabled:\")\n",
        "print(f\"{correlation_projects_wiki:.3f}\")\n",
        "\n",
        "# 11. Average Following for Hireable vs. Non-Hireable Users\n",
        "avg_following_hireable = users_df[users_df['hireable'] == True]['following'].mean()\n",
        "avg_following_non_hireable = users_df[users_df['hireable'] == False]['following'].mean()\n",
        "average_difference = avg_following_hireable - avg_following_non_hireable\n",
        "print(\"Average following difference for hireable users:\")\n",
        "print(f\"{average_difference:.3f}\")\n",
        "\n",
        "# 12. Correlation of Bio Length with Followers\n",
        "users_df['bio_length'] = users_df['bio'].str.split().str.len()\n",
        "correlation_bio_followers = users_df['bio_length'].corr(users_df['followers'])\n",
        "print(\"Correlation of bio length with followers:\")\n",
        "print(f\"{correlation_bio_followers:.3f}\")\n",
        "\n",
        "# 13. Users Who Created Most Repositories on Weekends\n",
        "repos_df['created_at'] = pd.to_datetime(repos_df['created_at'])\n",
        "repos_df['day_of_week'] = repos_df['created_at'].dt.dayofweek\n",
        "weekend_repos = repos_df[repos_df['day_of_week'].isin([5, 6])]\n",
        "top_weekend_users = weekend_repos['login'].value_counts().head(5).index.tolist()\n",
        "print(\"Top 5 users who created the most repositories on weekends:\")\n",
        "print(\", \".join(top_weekend_users))\n",
        "\n",
        "# 14. Hireable Users Sharing Email Addresses\n",
        "fraction_hireable = users_df[users_df['hireable'] == True]['email'].notna().mean()\n",
        "fraction_non_hireable = users_df[users_df['hireable'] == False]['email'].notna().mean()\n",
        "email_difference = fraction_hireable - fraction_non_hireable\n",
        "print(\"Difference in email sharing between hireable and non-hireable users:\")\n",
        "print(f\"{email_difference:.3f}\")\n",
        "\n",
        "# 15. Most Common Surname\n",
        "users_df['surname'] = users_df['name'].str.split().str[-1]\n",
        "most_common_surnames = users_df['surname'].value_counts().head(1).index.tolist()\n",
        "print(\"Most common surname among users:\")\n",
        "print(\", \".join(most_common_surnames))\n"
      ],
      "metadata": {
        "colab": {
          "base_uri": "https://localhost:8080/",
          "height": 722
        },
        "id": "-kYtVgW704i3",
        "outputId": "9c874329-bdd9-46c9-d0b2-ec5c9c7a4dab"
      },
      "execution_count": null,
      "outputs": [
        {
          "output_type": "stream",
          "name": "stdout",
          "text": [
            "Earliest registered users in Barcelona:\n",
            "oleganza, gravityblast, fesplugas, fxn, pauek\n",
            "Most popular licenses:\n",
            "MIT License, Other, Apache License 2.0\n",
            "Majority company:\n",
            "FREELANCE\n",
            "Most popular programming language:\n",
            "Ruby\n"
          ]
        },
        {
          "output_type": "error",
          "ename": "KeyError",
          "evalue": "'language'",
          "traceback": [
            "\u001b[0;31m---------------------------------------------------------------------------\u001b[0m",
            "\u001b[0;31mKeyError\u001b[0m                                  Traceback (most recent call last)",
            "\u001b[0;32m/usr/local/lib/python3.10/dist-packages/pandas/core/indexes/base.py\u001b[0m in \u001b[0;36mget_loc\u001b[0;34m(self, key)\u001b[0m\n\u001b[1;32m   3804\u001b[0m         \u001b[0;32mtry\u001b[0m\u001b[0;34m:\u001b[0m\u001b[0;34m\u001b[0m\u001b[0;34m\u001b[0m\u001b[0m\n\u001b[0;32m-> 3805\u001b[0;31m             \u001b[0;32mreturn\u001b[0m \u001b[0mself\u001b[0m\u001b[0;34m.\u001b[0m\u001b[0m_engine\u001b[0m\u001b[0;34m.\u001b[0m\u001b[0mget_loc\u001b[0m\u001b[0;34m(\u001b[0m\u001b[0mcasted_key\u001b[0m\u001b[0;34m)\u001b[0m\u001b[0;34m\u001b[0m\u001b[0;34m\u001b[0m\u001b[0m\n\u001b[0m\u001b[1;32m   3806\u001b[0m         \u001b[0;32mexcept\u001b[0m \u001b[0mKeyError\u001b[0m \u001b[0;32mas\u001b[0m \u001b[0merr\u001b[0m\u001b[0;34m:\u001b[0m\u001b[0;34m\u001b[0m\u001b[0;34m\u001b[0m\u001b[0m\n",
            "\u001b[0;32mindex.pyx\u001b[0m in \u001b[0;36mpandas._libs.index.IndexEngine.get_loc\u001b[0;34m()\u001b[0m\n",
            "\u001b[0;32mindex.pyx\u001b[0m in \u001b[0;36mpandas._libs.index.IndexEngine.get_loc\u001b[0;34m()\u001b[0m\n",
            "\u001b[0;32mpandas/_libs/hashtable_class_helper.pxi\u001b[0m in \u001b[0;36mpandas._libs.hashtable.PyObjectHashTable.get_item\u001b[0;34m()\u001b[0m\n",
            "\u001b[0;32mpandas/_libs/hashtable_class_helper.pxi\u001b[0m in \u001b[0;36mpandas._libs.hashtable.PyObjectHashTable.get_item\u001b[0;34m()\u001b[0m\n",
            "\u001b[0;31mKeyError\u001b[0m: 'language'",
            "\nThe above exception was the direct cause of the following exception:\n",
            "\u001b[0;31mKeyError\u001b[0m                                  Traceback (most recent call last)",
            "\u001b[0;32m<ipython-input-6-1bbdad86a34b>\u001b[0m in \u001b[0;36m<cell line: 35>\u001b[0;34m()\u001b[0m\n\u001b[1;32m     33\u001b[0m \u001b[0musers_df\u001b[0m\u001b[0;34m[\u001b[0m\u001b[0;34m'created_at'\u001b[0m\u001b[0;34m]\u001b[0m \u001b[0;34m=\u001b[0m \u001b[0mpd\u001b[0m\u001b[0;34m.\u001b[0m\u001b[0mto_datetime\u001b[0m\u001b[0;34m(\u001b[0m\u001b[0musers_df\u001b[0m\u001b[0;34m[\u001b[0m\u001b[0;34m'created_at'\u001b[0m\u001b[0;34m]\u001b[0m\u001b[0;34m)\u001b[0m\u001b[0;34m\u001b[0m\u001b[0;34m\u001b[0m\u001b[0m\n\u001b[1;32m     34\u001b[0m \u001b[0mafter_2020_users\u001b[0m \u001b[0;34m=\u001b[0m \u001b[0musers_df\u001b[0m\u001b[0;34m[\u001b[0m\u001b[0musers_df\u001b[0m\u001b[0;34m[\u001b[0m\u001b[0;34m'created_at'\u001b[0m\u001b[0;34m]\u001b[0m\u001b[0;34m.\u001b[0m\u001b[0mdt\u001b[0m\u001b[0;34m.\u001b[0m\u001b[0myear\u001b[0m \u001b[0;34m>\u001b[0m \u001b[0;36m2020\u001b[0m\u001b[0;34m]\u001b[0m\u001b[0;34m\u001b[0m\u001b[0;34m\u001b[0m\u001b[0m\n\u001b[0;32m---> 35\u001b[0;31m \u001b[0msecond_most_popular_language\u001b[0m \u001b[0;34m=\u001b[0m \u001b[0mafter_2020_users\u001b[0m\u001b[0;34m[\u001b[0m\u001b[0;34m'language'\u001b[0m\u001b[0;34m]\u001b[0m\u001b[0;34m.\u001b[0m\u001b[0mmode\u001b[0m\u001b[0;34m(\u001b[0m\u001b[0;34m)\u001b[0m\u001b[0;34m.\u001b[0m\u001b[0miloc\u001b[0m\u001b[0;34m[\u001b[0m\u001b[0;36m1\u001b[0m\u001b[0;34m]\u001b[0m\u001b[0;34m\u001b[0m\u001b[0;34m\u001b[0m\u001b[0m\n\u001b[0m\u001b[1;32m     36\u001b[0m \u001b[0mprint\u001b[0m\u001b[0;34m(\u001b[0m\u001b[0;34m\"Second most popular language for users who joined after 2020:\"\u001b[0m\u001b[0;34m)\u001b[0m\u001b[0;34m\u001b[0m\u001b[0;34m\u001b[0m\u001b[0m\n\u001b[1;32m     37\u001b[0m \u001b[0mprint\u001b[0m\u001b[0;34m(\u001b[0m\u001b[0msecond_most_popular_language\u001b[0m\u001b[0;34m)\u001b[0m\u001b[0;34m\u001b[0m\u001b[0;34m\u001b[0m\u001b[0m\n",
            "\u001b[0;32m/usr/local/lib/python3.10/dist-packages/pandas/core/frame.py\u001b[0m in \u001b[0;36m__getitem__\u001b[0;34m(self, key)\u001b[0m\n\u001b[1;32m   4100\u001b[0m             \u001b[0;32mif\u001b[0m \u001b[0mself\u001b[0m\u001b[0;34m.\u001b[0m\u001b[0mcolumns\u001b[0m\u001b[0;34m.\u001b[0m\u001b[0mnlevels\u001b[0m \u001b[0;34m>\u001b[0m \u001b[0;36m1\u001b[0m\u001b[0;34m:\u001b[0m\u001b[0;34m\u001b[0m\u001b[0;34m\u001b[0m\u001b[0m\n\u001b[1;32m   4101\u001b[0m                 \u001b[0;32mreturn\u001b[0m \u001b[0mself\u001b[0m\u001b[0;34m.\u001b[0m\u001b[0m_getitem_multilevel\u001b[0m\u001b[0;34m(\u001b[0m\u001b[0mkey\u001b[0m\u001b[0;34m)\u001b[0m\u001b[0;34m\u001b[0m\u001b[0;34m\u001b[0m\u001b[0m\n\u001b[0;32m-> 4102\u001b[0;31m             \u001b[0mindexer\u001b[0m \u001b[0;34m=\u001b[0m \u001b[0mself\u001b[0m\u001b[0;34m.\u001b[0m\u001b[0mcolumns\u001b[0m\u001b[0;34m.\u001b[0m\u001b[0mget_loc\u001b[0m\u001b[0;34m(\u001b[0m\u001b[0mkey\u001b[0m\u001b[0;34m)\u001b[0m\u001b[0;34m\u001b[0m\u001b[0;34m\u001b[0m\u001b[0m\n\u001b[0m\u001b[1;32m   4103\u001b[0m             \u001b[0;32mif\u001b[0m \u001b[0mis_integer\u001b[0m\u001b[0;34m(\u001b[0m\u001b[0mindexer\u001b[0m\u001b[0;34m)\u001b[0m\u001b[0;34m:\u001b[0m\u001b[0;34m\u001b[0m\u001b[0;34m\u001b[0m\u001b[0m\n\u001b[1;32m   4104\u001b[0m                 \u001b[0mindexer\u001b[0m \u001b[0;34m=\u001b[0m \u001b[0;34m[\u001b[0m\u001b[0mindexer\u001b[0m\u001b[0;34m]\u001b[0m\u001b[0;34m\u001b[0m\u001b[0;34m\u001b[0m\u001b[0m\n",
            "\u001b[0;32m/usr/local/lib/python3.10/dist-packages/pandas/core/indexes/base.py\u001b[0m in \u001b[0;36mget_loc\u001b[0;34m(self, key)\u001b[0m\n\u001b[1;32m   3810\u001b[0m             ):\n\u001b[1;32m   3811\u001b[0m                 \u001b[0;32mraise\u001b[0m \u001b[0mInvalidIndexError\u001b[0m\u001b[0;34m(\u001b[0m\u001b[0mkey\u001b[0m\u001b[0;34m)\u001b[0m\u001b[0;34m\u001b[0m\u001b[0;34m\u001b[0m\u001b[0m\n\u001b[0;32m-> 3812\u001b[0;31m             \u001b[0;32mraise\u001b[0m \u001b[0mKeyError\u001b[0m\u001b[0;34m(\u001b[0m\u001b[0mkey\u001b[0m\u001b[0;34m)\u001b[0m \u001b[0;32mfrom\u001b[0m \u001b[0merr\u001b[0m\u001b[0;34m\u001b[0m\u001b[0;34m\u001b[0m\u001b[0m\n\u001b[0m\u001b[1;32m   3813\u001b[0m         \u001b[0;32mexcept\u001b[0m \u001b[0mTypeError\u001b[0m\u001b[0;34m:\u001b[0m\u001b[0;34m\u001b[0m\u001b[0;34m\u001b[0m\u001b[0m\n\u001b[1;32m   3814\u001b[0m             \u001b[0;31m# If we have a listlike key, _check_indexing_error will raise\u001b[0m\u001b[0;34m\u001b[0m\u001b[0;34m\u001b[0m\u001b[0m\n",
            "\u001b[0;31mKeyError\u001b[0m: 'language'"
          ]
        }
      ]
    },
    {
      "cell_type": "code",
      "source": [
        "# Load your CSV files\n",
        "users_df = pd.read_csv('users.csv')\n",
        "repos_df = pd.read_csv('repositories.csv')\n",
        "\n",
        "# Ensure 'created_at' is a datetime object in users_df\n",
        "users_df['created_at'] = pd.to_datetime(users_df['created_at'])\n",
        "\n",
        "# Step 1: Filter users who joined after 2020\n",
        "after_2020_users = users_df[users_df['created_at'].dt.year >= 2020]\n",
        "\n",
        "# Step 2: Get the logins of these users\n",
        "after_2020_logins = after_2020_users['login'].unique()\n",
        "\n",
        "# Step 3: Filter repositories for these users\n",
        "repos_after_2020 = repos_df[repos_df['login'].isin(after_2020_logins)]\n",
        "\n",
        "# Step 4: Get the language counts from these repositories\n",
        "language_counts = repos_after_2020['language'].value_counts()\n",
        "\n",
        "# Step 5: Find the second most popular language\n",
        "second_most_popular_language = language_counts.index[1] if len(language_counts) > 1 else None\n",
        "\n",
        "print(\"Second most popular language for users who joined after 2020:\")\n",
        "print(second_most_popular_language)"
      ],
      "metadata": {
        "colab": {
          "base_uri": "https://localhost:8080/"
        },
        "id": "GflXkXLy6biD",
        "outputId": "46c505a3-2d86-4c20-9f97-d24b66d919de"
      },
      "execution_count": null,
      "outputs": [
        {
          "output_type": "stream",
          "name": "stdout",
          "text": [
            "Second most popular language for users who joined after 2020:\n",
            "Python\n"
          ]
        }
      ]
    },
    {
      "cell_type": "code",
      "source": [
        "import pandas as pd\n",
        "\n",
        "# Load your CSV files\n",
        "repos_df = pd.read_csv('repositories.csv')\n",
        "\n",
        "# Step 1: Group by language and calculate the average stars per repository\n",
        "average_stars_per_language = repos_df.groupby('language')['stargazers_count'].mean()\n",
        "\n",
        "# Step 2: Identify the language with the highest average stars\n",
        "highest_average_language = average_stars_per_language.idxmax()\n",
        "highest_average_value = average_stars_per_language.max()\n",
        "\n",
        "print(\"Language with the highest average number of stars per repository:\")\n",
        "print(f\"{highest_average_language} (Average Stars: {highest_average_value:.2f})\")\n"
      ],
      "metadata": {
        "colab": {
          "base_uri": "https://localhost:8080/"
        },
        "id": "IHqL1HmS8Izr",
        "outputId": "1b8e76cd-7852-4412-c5d0-e8d9e1961294"
      },
      "execution_count": null,
      "outputs": [
        {
          "output_type": "stream",
          "name": "stdout",
          "text": [
            "Language with the highest average number of stars per repository:\n",
            "Vim Script (Average Stars: 3838.75)\n"
          ]
        }
      ]
    },
    {
      "cell_type": "code",
      "source": [
        "import pandas as pd\n",
        "\n",
        "# Load your CSV file\n",
        "users_df = pd.read_csv('users.csv')\n",
        "\n",
        "# Step 1: Calculate leader strength\n",
        "users_df['leader_strength'] = users_df['followers'] / (1 + users_df['following'])\n",
        "\n",
        "# Step 2: Sort by leader strength in descending order and get the top 5\n",
        "top_leader_strength_users = users_df.nlargest(5, 'leader_strength')\n",
        "\n",
        "# Step 3: Extract the logins of these users\n",
        "top_logins = top_leader_strength_users['login'].tolist()\n",
        "\n",
        "# Print the result\n",
        "print(\"Top 5 users in terms of leader strength:\")\n",
        "print(\", \".join(top_logins))\n"
      ],
      "metadata": {
        "colab": {
          "base_uri": "https://localhost:8080/"
        },
        "id": "ptM4RAb-8wvY",
        "outputId": "3514e521-5cf1-40f7-f123-09dcfec82f43"
      },
      "execution_count": null,
      "outputs": [
        {
          "output_type": "stream",
          "name": "stdout",
          "text": [
            "Top 5 users in terms of leader strength:\n",
            "midudev, vfarcic, spite, amix, cfenollosa\n"
          ]
        }
      ]
    },
    {
      "cell_type": "code",
      "source": [
        "import pandas as pd\n",
        "import statsmodels.api as sm\n",
        "\n",
        "# Load your users CSV file\n",
        "users_df = pd.read_csv('users.csv')\n",
        "\n",
        "# Step 1: Prepare the data\n",
        "# Define the independent variable (public_repos) and dependent variable (followers)\n",
        "X = users_df['public_repos']\n",
        "y = users_df['followers']\n",
        "\n",
        "# Step 2: Add a constant to the independent variable for the intercept\n",
        "X = sm.add_constant(X)\n",
        "\n",
        "# Step 3: Fit the regression model\n",
        "model = sm.OLS(y, X).fit()\n",
        "\n",
        "# Step 4: Get the regression results\n",
        "slope = model.params['public_repos']\n",
        "\n",
        "# Step 5: Print the estimated additional followers per additional public repository\n",
        "print(f\"Estimated additional followers per additional public repository: {slope:.3f}\")\n"
      ],
      "metadata": {
        "colab": {
          "base_uri": "https://localhost:8080/"
        },
        "id": "yAOnW0LT9b-B",
        "outputId": "8d0dda64-6bd8-41e4-ee65-2ff63429eceb"
      },
      "execution_count": null,
      "outputs": [
        {
          "output_type": "stream",
          "name": "stdout",
          "text": [
            "Estimated additional followers per additional public repository: 1.031\n"
          ]
        }
      ]
    },
    {
      "cell_type": "code",
      "source": [
        "import pandas as pd\n",
        "\n",
        "# Load your repositories CSV file\n",
        "repos_df = pd.read_csv('repositories.csv')\n",
        "\n",
        "# Step 1: Convert has_projects and has_wiki to numeric (1 for True, 0 for False)\n",
        "repos_df['has_projects_numeric'] = repos_df['has_projects'].astype(int)\n",
        "repos_df['has_wiki_numeric'] = repos_df['has_wiki'].astype(int)\n",
        "\n",
        "# Step 2: Calculate the correlation\n",
        "correlation = repos_df['has_projects_numeric'].corr(repos_df['has_wiki_numeric'])\n",
        "\n",
        "# Step 3: Print the result rounded to 3 decimal places\n",
        "print(f\"Correlation between projects and wiki enabled: {correlation:.3f}\")\n"
      ],
      "metadata": {
        "colab": {
          "base_uri": "https://localhost:8080/"
        },
        "id": "hh4TeyqO9NwZ",
        "outputId": "bbb64bcb-7697-4cf6-91ce-630e708e74d1"
      },
      "execution_count": null,
      "outputs": [
        {
          "output_type": "stream",
          "name": "stdout",
          "text": [
            "Correlation between projects and wiki enabled: 0.317\n"
          ]
        }
      ]
    },
    {
      "cell_type": "code",
      "source": [
        "(async function() {\n",
        "    const form = document.getElementById('quiz-form');\n",
        "    const checkButton = form.querySelector('button[name=\"check-answer\"]');\n",
        "    const resultDiv = document.getElementById('result');\n",
        "\n",
        "    function delay(ms) {\n",
        "        return new Promise(resolve => setTimeout(resolve, ms));\n",
        "    }\n",
        "\n",
        "    // Iterate over each question\n",
        "    for (let questionId = 13; questionId < 14; questionId++) {\n",
        "        const inputField = form.querySelector(`#q${questionId}`);\n",
        "        console.log(`Checking question ${questionId}...`);\n",
        "\n",
        "        for (let i = -10000; i <= 15000; i++) {\n",
        "            const num = (i / 1000).toFixed(3);\n",
        "\n",
        "            inputField.value = num;\n",
        "            checkButton.click();\n",
        "\n",
        "            await delay(100); // Added delay to allow for UI processing\n",
        "\n",
        "            // Check if the resultDiv contains success feedback\n",
        "            if (resultDiv.textContent.includes(\"17\")) { // Change this to your correct answer check\n",
        "                console.log(`Question ${questionId} correct answer: ${num}`);\n",
        "                break; // Exit the loop when the correct answer is found\n",
        "            }\n",
        "        }\n",
        "    }\n",
        "})();\n"
      ],
      "metadata": {
        "colab": {
          "base_uri": "https://localhost:8080/",
          "height": 110
        },
        "id": "wINJZFfP8coS",
        "outputId": "8920c39b-f487-4ca7-f9cb-bedda7d0fd45"
      },
      "execution_count": null,
      "outputs": [
        {
          "output_type": "error",
          "ename": "SyntaxError",
          "evalue": "closing parenthesis '}' does not match opening parenthesis '(' on line 12 (<ipython-input-16-d9ec0f4ae921>, line 29)",
          "traceback": [
            "\u001b[0;36m  File \u001b[0;32m\"<ipython-input-16-d9ec0f4ae921>\"\u001b[0;36m, line \u001b[0;32m29\u001b[0m\n\u001b[0;31m    }\u001b[0m\n\u001b[0m    ^\u001b[0m\n\u001b[0;31mSyntaxError\u001b[0m\u001b[0;31m:\u001b[0m closing parenthesis '}' does not match opening parenthesis '(' on line 12\n"
          ]
        }
      ]
    },
    {
      "cell_type": "code",
      "source": [
        "import pandas as pd\n",
        "import statsmodels.api as sm\n",
        "\n",
        "# Load the users CSV file\n",
        "users_df = pd.read_csv('users.csv')\n",
        "\n",
        "# Step 1: Filter out users without a bio\n",
        "users_with_bios = users_df[users_df['bio'].notna()]\n",
        "\n",
        "# Step 2: Calculate bio word count by splitting on whitespace\n",
        "users_with_bios['bio_word_count'] = users_with_bios['bio'].apply(lambda x: len(x.split()))\n",
        "\n",
        "# Step 3: Define the independent (bio word count) and dependent variable (followers)\n",
        "X = users_with_bios['bio_word_count']\n",
        "y = users_with_bios['followers']\n",
        "\n",
        "# Step 4: Add a constant to the independent variable for the intercept\n",
        "X = sm.add_constant(X)\n",
        "\n",
        "# Step 5: Fit the regression model\n",
        "model = sm.OLS(y, X).fit()\n",
        "\n",
        "# Step 6: Get the regression slope (coefficient of bio_word_count)\n",
        "slope = model.params['bio_word_count']\n",
        "\n",
        "# Step 7: Print the regression slope, rounded to 3 decimal places\n",
        "print(f\"Regression slope of followers on bio word count: {slope:.3f}\")\n"
      ],
      "metadata": {
        "colab": {
          "base_uri": "https://localhost:8080/"
        },
        "id": "mzf9579aBzex",
        "outputId": "5696ad95-eaee-47cb-8a6f-a0e1be44c3b1"
      },
      "execution_count": null,
      "outputs": [
        {
          "output_type": "stream",
          "name": "stdout",
          "text": [
            "Regression slope of followers on bio word count: 13.718\n"
          ]
        },
        {
          "output_type": "stream",
          "name": "stderr",
          "text": [
            "<ipython-input-22-7cb78d7d8f4e>:11: SettingWithCopyWarning: \n",
            "A value is trying to be set on a copy of a slice from a DataFrame.\n",
            "Try using .loc[row_indexer,col_indexer] = value instead\n",
            "\n",
            "See the caveats in the documentation: https://pandas.pydata.org/pandas-docs/stable/user_guide/indexing.html#returning-a-view-versus-a-copy\n",
            "  users_with_bios['bio_word_count'] = users_with_bios['bio'].apply(lambda x: len(x.split()))\n"
          ]
        }
      ]
    },
    {
      "cell_type": "code",
      "source": [
        "import pandas as pd\n",
        "\n",
        "# Load repositories data\n",
        "repos_df = pd.read_csv('repositories.csv')\n",
        "\n",
        "# Convert 'created_at' to datetime format\n",
        "repos_df['created_at'] = pd.to_datetime(repos_df['created_at'])\n",
        "\n",
        "# Filter repositories created on weekends (Saturday and Sunday)\n",
        "repos_df['weekday'] = repos_df['created_at'].dt.weekday\n",
        "weekend_repos = repos_df[repos_df['weekday'] >= 5]  # 5 = Saturday, 6 = Sunday\n",
        "\n",
        "# Count the number of weekend repositories per user\n",
        "weekend_repo_counts = weekend_repos['login'].value_counts()\n",
        "\n",
        "# Get the top 5 users with the most weekend repositories\n",
        "top_5_weekend_users = weekend_repo_counts.head(5).index.tolist()\n",
        "\n",
        "# Convert list to a comma-separated string\n",
        "top_5_weekend_users_str = ','.join(top_5_weekend_users)\n",
        "print(\"Top 5 users by weekend repository creation:\", top_5_weekend_users_str)\n"
      ],
      "metadata": {
        "colab": {
          "base_uri": "https://localhost:8080/"
        },
        "id": "qfeRDtS7CCIp",
        "outputId": "1dd26577-f128-4d54-d55b-8009b185979b"
      },
      "execution_count": null,
      "outputs": [
        {
          "output_type": "stream",
          "name": "stdout",
          "text": [
            "Top 5 users by weekend repository creation: nilportugues,kinow,ajsb85,vfarcic,wlsf82\n"
          ]
        }
      ]
    },
    {
      "cell_type": "code",
      "source": [
        "import pandas as pd\n",
        "\n",
        "# Load users data\n",
        "users_df = pd.read_csv('users.csv')\n",
        "\n",
        "# Drop rows with missing names\n",
        "names_with_surnames = users_df['name'].dropna()\n",
        "\n",
        "# Extract the last word (surname) from each name\n",
        "surnames = names_with_surnames.apply(lambda name: name.strip().split()[-1])\n",
        "\n",
        "# Count the frequency of each surname\n",
        "surname_counts = surnames.value_counts()\n",
        "\n",
        "# Find the most common surname(s)\n",
        "max_count = surname_counts.max()\n",
        "most_common_surnames = surname_counts[surname_counts == max_count].index.tolist()\n",
        "\n",
        "# Sort surnames alphabetically if there's a tie\n",
        "most_common_surnames_sorted = sorted(most_common_surnames)\n",
        "most_common_surnames_str = ','.join(most_common_surnames_sorted)\n",
        "\n",
        "# Output the results\n",
        "print(\"Most common surname(s):\", most_common_surnames_str)\n",
        "print(\"Number of users with the most common surname:\", max_count)\n"
      ],
      "metadata": {
        "colab": {
          "base_uri": "https://localhost:8080/"
        },
        "id": "d3pQq2N0CX3d",
        "outputId": "dcecdfa8-a2ce-4e59-803d-ade57a870d43"
      },
      "execution_count": null,
      "outputs": [
        {
          "output_type": "stream",
          "name": "stdout",
          "text": [
            "Most common surname(s): Martínez,Ortiz\n",
            "Number of users with the most common surname: 3\n"
          ]
        }
      ]
    },
    {
      "cell_type": "code",
      "source": [
        "import pandas as pd\n",
        "from sklearn.linear_model import LinearRegression\n",
        "import numpy as np\n",
        "\n",
        "# Load users data\n",
        "users_df = pd.read_csv('users.csv')\n",
        "\n",
        "# Filter users with a non-empty bio\n",
        "users_with_bio = users_df[users_df['bio'].notna() & (users_df['bio'] != '')]\n",
        "\n",
        "# Calculate bio word count\n",
        "users_with_bio['bio_word_count'] = users_with_bio['bio'].apply(lambda x: len(x.split()))\n",
        "\n",
        "# Prepare data for regression\n",
        "X = users_with_bio[['bio_word_count']]\n",
        "y = users_with_bio['followers']\n",
        "\n",
        "# Perform linear regression\n",
        "regression_model = LinearRegression()\n",
        "regression_model.fit(X, y)\n",
        "\n",
        "# Extract the slope of followers on bio word count\n",
        "slope = regression_model.coef_[0]\n",
        "\n",
        "# Output the result rounded to 3 decimal places\n",
        "print(\"Regression slope of followers on bio word count:\", round(slope, 3))\n"
      ],
      "metadata": {
        "colab": {
          "base_uri": "https://localhost:8080/"
        },
        "id": "UF9x53ypCxuW",
        "outputId": "fcaa0b6d-ef46-4053-94f1-b895f2f1cde7"
      },
      "execution_count": null,
      "outputs": [
        {
          "output_type": "stream",
          "name": "stdout",
          "text": [
            "Regression slope of followers on bio word count: 13.718\n"
          ]
        },
        {
          "output_type": "stream",
          "name": "stderr",
          "text": [
            "<ipython-input-25-bab068e1d8a1>:12: SettingWithCopyWarning: \n",
            "A value is trying to be set on a copy of a slice from a DataFrame.\n",
            "Try using .loc[row_indexer,col_indexer] = value instead\n",
            "\n",
            "See the caveats in the documentation: https://pandas.pydata.org/pandas-docs/stable/user_guide/indexing.html#returning-a-view-versus-a-copy\n",
            "  users_with_bio['bio_word_count'] = users_with_bio['bio'].apply(lambda x: len(x.split()))\n"
          ]
        }
      ]
    },
    {
      "cell_type": "code",
      "source": [
        "pip install selenium\n"
      ],
      "metadata": {
        "colab": {
          "base_uri": "https://localhost:8080/"
        },
        "id": "WbHwK99QC9ox",
        "outputId": "b1108337-4698-4fb9-e9e4-fe758cb18b35"
      },
      "execution_count": null,
      "outputs": [
        {
          "output_type": "stream",
          "name": "stdout",
          "text": [
            "Collecting selenium\n",
            "  Downloading selenium-4.25.0-py3-none-any.whl.metadata (7.1 kB)\n",
            "Requirement already satisfied: urllib3<3,>=1.26 in /usr/local/lib/python3.10/dist-packages (from urllib3[socks]<3,>=1.26->selenium) (2.2.3)\n",
            "Collecting trio~=0.17 (from selenium)\n",
            "  Downloading trio-0.27.0-py3-none-any.whl.metadata (8.6 kB)\n",
            "Collecting trio-websocket~=0.9 (from selenium)\n",
            "  Downloading trio_websocket-0.11.1-py3-none-any.whl.metadata (4.7 kB)\n",
            "Requirement already satisfied: certifi>=2021.10.8 in /usr/local/lib/python3.10/dist-packages (from selenium) (2024.8.30)\n",
            "Requirement already satisfied: typing_extensions~=4.9 in /usr/local/lib/python3.10/dist-packages (from selenium) (4.12.2)\n",
            "Requirement already satisfied: websocket-client~=1.8 in /usr/local/lib/python3.10/dist-packages (from selenium) (1.8.0)\n",
            "Requirement already satisfied: attrs>=23.2.0 in /usr/local/lib/python3.10/dist-packages (from trio~=0.17->selenium) (24.2.0)\n",
            "Collecting sortedcontainers (from trio~=0.17->selenium)\n",
            "  Downloading sortedcontainers-2.4.0-py2.py3-none-any.whl.metadata (10 kB)\n",
            "Requirement already satisfied: idna in /usr/local/lib/python3.10/dist-packages (from trio~=0.17->selenium) (3.10)\n",
            "Collecting outcome (from trio~=0.17->selenium)\n",
            "  Downloading outcome-1.3.0.post0-py2.py3-none-any.whl.metadata (2.6 kB)\n",
            "Requirement already satisfied: sniffio>=1.3.0 in /usr/local/lib/python3.10/dist-packages (from trio~=0.17->selenium) (1.3.1)\n",
            "Requirement already satisfied: exceptiongroup in /usr/local/lib/python3.10/dist-packages (from trio~=0.17->selenium) (1.2.2)\n",
            "Collecting wsproto>=0.14 (from trio-websocket~=0.9->selenium)\n",
            "  Downloading wsproto-1.2.0-py3-none-any.whl.metadata (5.6 kB)\n",
            "Requirement already satisfied: pysocks!=1.5.7,<2.0,>=1.5.6 in /usr/local/lib/python3.10/dist-packages (from urllib3[socks]<3,>=1.26->selenium) (1.7.1)\n",
            "Collecting h11<1,>=0.9.0 (from wsproto>=0.14->trio-websocket~=0.9->selenium)\n",
            "  Downloading h11-0.14.0-py3-none-any.whl.metadata (8.2 kB)\n",
            "Downloading selenium-4.25.0-py3-none-any.whl (9.7 MB)\n",
            "\u001b[2K   \u001b[90m━━━━━━━━━━━━━━━━━━━━━━━━━━━━━━━━━━━━━━━━\u001b[0m \u001b[32m9.7/9.7 MB\u001b[0m \u001b[31m45.8 MB/s\u001b[0m eta \u001b[36m0:00:00\u001b[0m\n",
            "\u001b[?25hDownloading trio-0.27.0-py3-none-any.whl (481 kB)\n",
            "\u001b[2K   \u001b[90m━━━━━━━━━━━━━━━━━━━━━━━━━━━━━━━━━━━━━━━━\u001b[0m \u001b[32m481.7/481.7 kB\u001b[0m \u001b[31m24.2 MB/s\u001b[0m eta \u001b[36m0:00:00\u001b[0m\n",
            "\u001b[?25hDownloading trio_websocket-0.11.1-py3-none-any.whl (17 kB)\n",
            "Downloading wsproto-1.2.0-py3-none-any.whl (24 kB)\n",
            "Downloading outcome-1.3.0.post0-py2.py3-none-any.whl (10 kB)\n",
            "Downloading sortedcontainers-2.4.0-py2.py3-none-any.whl (29 kB)\n",
            "Downloading h11-0.14.0-py3-none-any.whl (58 kB)\n",
            "\u001b[2K   \u001b[90m━━━━━━━━━━━━━━━━━━━━━━━━━━━━━━━━━━━━━━━━\u001b[0m \u001b[32m58.3/58.3 kB\u001b[0m \u001b[31m3.8 MB/s\u001b[0m eta \u001b[36m0:00:00\u001b[0m\n",
            "\u001b[?25hInstalling collected packages: sortedcontainers, outcome, h11, wsproto, trio, trio-websocket, selenium\n",
            "Successfully installed h11-0.14.0 outcome-1.3.0.post0 selenium-4.25.0 sortedcontainers-2.4.0 trio-0.27.0 trio-websocket-0.11.1 wsproto-1.2.0\n"
          ]
        }
      ]
    },
    {
      "cell_type": "code",
      "source": [
        "from selenium import webdriver\n",
        "from selenium.webdriver.common.by import By\n",
        "from selenium.webdriver.common.keys import Keys\n",
        "import time\n",
        "\n",
        "# Set up WebDriver (ChromeDriver path or use another driver)\n",
        "driver = webdriver.Chrome(executable_path='path/to/chromedriver')\n",
        "driver.get('URL_OF_YOUR_FORM_PAGE')  # Replace with your form URL\n",
        "\n",
        "def delay(seconds):\n",
        "    time.sleep(seconds)\n",
        "\n",
        "try:\n",
        "    # Access the form and button\n",
        "    form = driver.find_element(By.ID, 'quiz-form')\n",
        "    check_button = form.find_element(By.NAME, 'check-answer')\n",
        "    result_div = driver.find_element(By.ID, 'result')\n",
        "\n",
        "    # Loop over each question\n",
        "    for question_id in range(13, 14):  # Adjust range as needed\n",
        "        input_field = form.find_element(By.ID, f'q{question_id}')\n",
        "        print(f\"Checking question {question_id}...\")\n",
        "\n",
        "        # Range of values to try (from -10000 to 15000 by 0.001)\n",
        "        for i in range(-10000, 15001):\n",
        "            num = f\"{i / 1000:.3f}\"  # Format number to 3 decimal places\n",
        "\n",
        "            # Set input value and click check button\n",
        "            input_field.clear()\n",
        "            input_field.send_keys(num)\n",
        "            check_button.click()\n",
        "            delay(0.1)  # Short delay to let result update\n",
        "\n",
        "            # Check for the success message in result_div\n",
        "            if \"17\" in result_div.text:\n",
        "                print(f\"Question {question_id} correct answer: {num}\")\n",
        "                break\n",
        "\n",
        "finally:\n",
        "    driver.quit()  # Close the browser\n"
      ],
      "metadata": {
        "colab": {
          "base_uri": "https://localhost:8080/",
          "height": 221
        },
        "id": "gwBmYz4BDXYK",
        "outputId": "e70c727e-ae08-4efa-bd7e-a2c092eff833"
      },
      "execution_count": null,
      "outputs": [
        {
          "output_type": "error",
          "ename": "TypeError",
          "evalue": "WebDriver.__init__() got an unexpected keyword argument 'executable_path'",
          "traceback": [
            "\u001b[0;31m---------------------------------------------------------------------------\u001b[0m",
            "\u001b[0;31mTypeError\u001b[0m                                 Traceback (most recent call last)",
            "\u001b[0;32m<ipython-input-30-f30a63d66589>\u001b[0m in \u001b[0;36m<cell line: 7>\u001b[0;34m()\u001b[0m\n\u001b[1;32m      5\u001b[0m \u001b[0;34m\u001b[0m\u001b[0m\n\u001b[1;32m      6\u001b[0m \u001b[0;31m# Set up WebDriver (ChromeDriver path or use another driver)\u001b[0m\u001b[0;34m\u001b[0m\u001b[0;34m\u001b[0m\u001b[0m\n\u001b[0;32m----> 7\u001b[0;31m \u001b[0mdriver\u001b[0m \u001b[0;34m=\u001b[0m \u001b[0mwebdriver\u001b[0m\u001b[0;34m.\u001b[0m\u001b[0mChrome\u001b[0m\u001b[0;34m(\u001b[0m\u001b[0mexecutable_path\u001b[0m\u001b[0;34m=\u001b[0m\u001b[0;34m'path/to/chromedriver'\u001b[0m\u001b[0;34m)\u001b[0m\u001b[0;34m\u001b[0m\u001b[0;34m\u001b[0m\u001b[0m\n\u001b[0m\u001b[1;32m      8\u001b[0m \u001b[0mdriver\u001b[0m\u001b[0;34m.\u001b[0m\u001b[0mget\u001b[0m\u001b[0;34m(\u001b[0m\u001b[0;34m'URL_OF_YOUR_FORM_PAGE'\u001b[0m\u001b[0;34m)\u001b[0m  \u001b[0;31m# Replace with your form URL\u001b[0m\u001b[0;34m\u001b[0m\u001b[0;34m\u001b[0m\u001b[0m\n\u001b[1;32m      9\u001b[0m \u001b[0;34m\u001b[0m\u001b[0m\n",
            "\u001b[0;31mTypeError\u001b[0m: WebDriver.__init__() got an unexpected keyword argument 'executable_path'"
          ]
        }
      ]
    },
    {
      "cell_type": "code",
      "source": [
        "(async function() {\n",
        "    const form = document.getElementById('quiz-form');\n",
        "    const checkButton = form.querySelector('button[name=\"check-answer\"]');\n",
        "    const resultDiv = document.getElementById('result');\n",
        "\n",
        "    function delay(ms) {\n",
        "        return new Promise(resolve => setTimeout(resolve, ms));\n",
        "    }\n",
        "\n",
        "    for (let questionId = 13; questionId < 14; questionId++) {\n",
        "        const inputField = form.querySelector(`#q${questionId}`);\n",
        "        console.log(`Checking question ${questionId}...`);\n",
        "\n",
        "        for (let i = -10000; i <= 15000; i++) {\n",
        "            const num = (i / 1000).toFixed(3);\n",
        "\n",
        "            inputField.value = num;\n",
        "            checkButton.click();\n",
        "            await delay(0);\n",
        "\n",
        "            if (resultDiv.textContent.includes(\"17\")) {\n",
        "                console.log(`Question ${questionId} correct answer: ${num}`);\n",
        "                break;\n",
        "            }\n",
        "        }\n",
        "    }\n",
        "})();\n"
      ],
      "metadata": {
        "colab": {
          "base_uri": "https://localhost:8080/",
          "height": 110
        },
        "id": "mb74SssfDldq",
        "outputId": "c64342c6-b1bd-4517-b6f2-fa6027f2d308"
      },
      "execution_count": null,
      "outputs": [
        {
          "output_type": "error",
          "ename": "SyntaxError",
          "evalue": "closing parenthesis '}' does not match opening parenthesis '(' on line 11 (<ipython-input-31-9d6fc534087f>, line 26)",
          "traceback": [
            "\u001b[0;36m  File \u001b[0;32m\"<ipython-input-31-9d6fc534087f>\"\u001b[0;36m, line \u001b[0;32m26\u001b[0m\n\u001b[0;31m    }\u001b[0m\n\u001b[0m    ^\u001b[0m\n\u001b[0;31mSyntaxError\u001b[0m\u001b[0;31m:\u001b[0m closing parenthesis '}' does not match opening parenthesis '(' on line 11\n"
          ]
        }
      ]
    }
  ]
}